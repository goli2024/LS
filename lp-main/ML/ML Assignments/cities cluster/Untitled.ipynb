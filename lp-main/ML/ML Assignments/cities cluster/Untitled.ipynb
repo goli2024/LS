{
 "cells": [
  {
   "cell_type": "code",
   "execution_count": 1,
   "id": "7b87adfe-c1ce-4346-8e33-4aaed0019968",
   "metadata": {},
   "outputs": [],
   "source": [
    "import pandas as pd\n",
    "import numpy as np\n",
    "from sklearn.preprocessing import LabelEncoder, StandardScaler\n",
    "from sklearn.cluster import KMeans\n",
    "import matplotlib.pyplot as plt\n",
    "import seaborn as sns"
   ]
  },
  {
   "cell_type": "code",
   "execution_count": 2,
   "id": "58f0b083-96a4-4792-8e18-2d1ac5a9997f",
   "metadata": {},
   "outputs": [
    {
     "name": "stdout",
     "output_type": "stream",
     "text": [
      "  name_of_city  state_code      state_name  dist_code  population_total  \\\n",
      "0      Abohar            3          PUNJAB          9            145238   \n",
      "1    Achalpur           27     MAHARASHTRA          7            112293   \n",
      "2    Adilabad           28  ANDHRA PRADESH          1            117388   \n",
      "3   Adityapur           20       JHARKHAND         24            173988   \n",
      "4       Adoni           28  ANDHRA PRADESH         21            166537   \n",
      "\n",
      "   population_male  population_female  0-6_population_total  \\\n",
      "0            76840              68398                 15870   \n",
      "1            58256              54037                 11810   \n",
      "2            59232              58156                 13103   \n",
      "3            91495              82493                 23042   \n",
      "4            82743              83794                 18406   \n",
      "\n",
      "   0-6_population_male  0-6_population_female  ...  literates_female  \\\n",
      "0                 8587                   7283  ...             44972   \n",
      "1                 6186                   5624  ...             43086   \n",
      "2                 6731                   6372  ...             37660   \n",
      "3                12063                  10979  ...             54515   \n",
      "4                 9355                   9051  ...             45089   \n",
      "\n",
      "   sex_ratio  child_sex_ratio  effective_literacy_rate_total  \\\n",
      "0        890              848                          79.86   \n",
      "1        928              909                          91.99   \n",
      "2        982              947                          80.51   \n",
      "3        902              910                          83.46   \n",
      "4       1013              968                          68.38   \n",
      "\n",
      "   effective_literacy_rate_male  effective_literacy_rate_female  \\\n",
      "0                         85.49                           73.59   \n",
      "1                         94.77                           89.00   \n",
      "2                         88.18                           72.73   \n",
      "3                         89.98                           76.23   \n",
      "4                         76.58                           60.33   \n",
      "\n",
      "                location  total_graduates male_graduates  female_graduates  \n",
      "0  30.1452928,74.1993043            16287           8612              7675  \n",
      "1   21.257584,77.5086754             8863           5269              3594  \n",
      "2   19.0809075,79.560344            10565           6797              3768  \n",
      "3  22.7834741,86.1576889            19225          12189              7036  \n",
      "4  15.6322227,77.2728368            11902           7871              4031  \n",
      "\n",
      "[5 rows x 22 columns]\n"
     ]
    }
   ],
   "source": [
    "data = pd.read_csv('cities_r2.csv')\n",
    "print(data.head())"
   ]
  },
  {
   "cell_type": "code",
   "execution_count": 4,
   "id": "00e9db77-60d1-463b-9d71-8733a6c7188d",
   "metadata": {},
   "outputs": [
    {
     "name": "stdout",
     "output_type": "stream",
     "text": [
      "name_of_city                      0\n",
      "state_code                        0\n",
      "state_name                        0\n",
      "dist_code                         0\n",
      "population_total                  0\n",
      "population_male                   0\n",
      "population_female                 0\n",
      "0-6_population_total              0\n",
      "0-6_population_male               0\n",
      "0-6_population_female             0\n",
      "literates_total                   0\n",
      "literates_male                    0\n",
      "literates_female                  0\n",
      "sex_ratio                         0\n",
      "child_sex_ratio                   0\n",
      "effective_literacy_rate_total     0\n",
      "effective_literacy_rate_male      0\n",
      "effective_literacy_rate_female    0\n",
      "location                          0\n",
      "total_graduates                   0\n",
      "male_graduates                    0\n",
      "female_graduates                  0\n",
      "dtype: int64\n"
     ]
    }
   ],
   "source": [
    "print(data.isnull().sum())\n",
    "data = data.dropna()"
   ]
  },
  {
   "cell_type": "code",
   "execution_count": 5,
   "id": "edbeeb98-4925-46f8-9d66-d99d94946c44",
   "metadata": {},
   "outputs": [],
   "source": [
    "le = LabelEncoder()\n",
    "data['name_of_city'] = le.fit_transform(data['name_of_city'])"
   ]
  },
  {
   "cell_type": "code",
   "execution_count": 6,
   "id": "f639b640-83bf-4b15-a0c8-12b03b61cf25",
   "metadata": {},
   "outputs": [],
   "source": [
    "X = data[['total_graduates']].values"
   ]
  },
  {
   "cell_type": "code",
   "execution_count": 7,
   "id": "3df4a8d7-0e1a-45f2-86d7-6a619f1a365c",
   "metadata": {},
   "outputs": [],
   "source": [
    "scaler = StandardScaler()\n",
    "X_scaled = scaler.fit_transform(X)"
   ]
  },
  {
   "cell_type": "code",
   "execution_count": 8,
   "id": "5f6dd8ce-d921-477c-9a23-930663b17dbb",
   "metadata": {},
   "outputs": [
    {
     "name": "stderr",
     "output_type": "stream",
     "text": [
      "C:\\Users\\ishan\\anaconda3\\Lib\\site-packages\\sklearn\\cluster\\_kmeans.py:1382: UserWarning: KMeans is known to have a memory leak on Windows with MKL, when there are less chunks than available threads. You can avoid it by setting the environment variable OMP_NUM_THREADS=2.\n",
      "  warnings.warn(\n",
      "C:\\Users\\ishan\\anaconda3\\Lib\\site-packages\\sklearn\\cluster\\_kmeans.py:1382: UserWarning: KMeans is known to have a memory leak on Windows with MKL, when there are less chunks than available threads. You can avoid it by setting the environment variable OMP_NUM_THREADS=2.\n",
      "  warnings.warn(\n",
      "C:\\Users\\ishan\\anaconda3\\Lib\\site-packages\\sklearn\\cluster\\_kmeans.py:1382: UserWarning: KMeans is known to have a memory leak on Windows with MKL, when there are less chunks than available threads. You can avoid it by setting the environment variable OMP_NUM_THREADS=2.\n",
      "  warnings.warn(\n",
      "C:\\Users\\ishan\\anaconda3\\Lib\\site-packages\\sklearn\\cluster\\_kmeans.py:1382: UserWarning: KMeans is known to have a memory leak on Windows with MKL, when there are less chunks than available threads. You can avoid it by setting the environment variable OMP_NUM_THREADS=2.\n",
      "  warnings.warn(\n",
      "C:\\Users\\ishan\\anaconda3\\Lib\\site-packages\\sklearn\\cluster\\_kmeans.py:1382: UserWarning: KMeans is known to have a memory leak on Windows with MKL, when there are less chunks than available threads. You can avoid it by setting the environment variable OMP_NUM_THREADS=2.\n",
      "  warnings.warn(\n",
      "C:\\Users\\ishan\\anaconda3\\Lib\\site-packages\\sklearn\\cluster\\_kmeans.py:1382: UserWarning: KMeans is known to have a memory leak on Windows with MKL, when there are less chunks than available threads. You can avoid it by setting the environment variable OMP_NUM_THREADS=2.\n",
      "  warnings.warn(\n",
      "C:\\Users\\ishan\\anaconda3\\Lib\\site-packages\\sklearn\\cluster\\_kmeans.py:1382: UserWarning: KMeans is known to have a memory leak on Windows with MKL, when there are less chunks than available threads. You can avoid it by setting the environment variable OMP_NUM_THREADS=2.\n",
      "  warnings.warn(\n",
      "C:\\Users\\ishan\\anaconda3\\Lib\\site-packages\\sklearn\\cluster\\_kmeans.py:1382: UserWarning: KMeans is known to have a memory leak on Windows with MKL, when there are less chunks than available threads. You can avoid it by setting the environment variable OMP_NUM_THREADS=2.\n",
      "  warnings.warn(\n",
      "C:\\Users\\ishan\\anaconda3\\Lib\\site-packages\\sklearn\\cluster\\_kmeans.py:1382: UserWarning: KMeans is known to have a memory leak on Windows with MKL, when there are less chunks than available threads. You can avoid it by setting the environment variable OMP_NUM_THREADS=2.\n",
      "  warnings.warn(\n",
      "C:\\Users\\ishan\\anaconda3\\Lib\\site-packages\\sklearn\\cluster\\_kmeans.py:1382: UserWarning: KMeans is known to have a memory leak on Windows with MKL, when there are less chunks than available threads. You can avoid it by setting the environment variable OMP_NUM_THREADS=2.\n",
      "  warnings.warn(\n"
     ]
    },
    {
     "data": {
      "image/png": "[encoded data removed]",
      "text/plain": [
       "<Figure size 1000x600 with 1 Axes>"
      ]
     },
     "metadata": {},
     "output_type": "display_data"
    }
   ],
   "source": [
    "wcss = []\n",
    "\n",
    "for i in range(1,11):\n",
    "    kmeans = KMeans(n_clusters=i,init='k-means++',max_iter=300,n_init=10,random_state = 0)\n",
    "    kmeans.fit(X_scaled)\n",
    "    wcss.append(kmeans.inertia_)\n",
    "\n",
    "plt.figure(figsize=(10,6))\n",
    "plt.plot(range(1,11),wcss,marker='o',linestyle ='--')\n",
    "plt.title('Elbow Method for Optimal number of clusters')\n",
    "plt.xlabel('Number of Cluster')\n",
    "plt.ylabel('WCSS')\n",
    "plt.show()"
   ]
  },
  {
   "cell_type": "code",
   "execution_count": 12,
   "id": "c5db9c17-f4ba-41d5-9e5e-a64ca42e8f0d",
   "metadata": {},
   "outputs": [
    {
     "name": "stderr",
     "output_type": "stream",
     "text": [
      "C:\\Users\\ishan\\anaconda3\\Lib\\site-packages\\sklearn\\cluster\\_kmeans.py:1382: UserWarning: KMeans is known to have a memory leak on Windows with MKL, when there are less chunks than available threads. You can avoid it by setting the environment variable OMP_NUM_THREADS=2.\n",
      "  warnings.warn(\n"
     ]
    }
   ],
   "source": [
    "kmean = KMeans(n_clusters = 2,init = 'k-means++',max_iter = 300,n_init=10,random_state=0)\n",
    "y_kmeans = kmeans.fit_predict(X_scaled)\n",
    "\n",
    "data['Cluster'] = y_kmeans"
   ]
  },
  {
   "cell_type": "code",
   "execution_count": 1,
   "id": "c03c9633-1c36-46df-a931-a7407553f956",
   "metadata": {},
   "outputs": [
    {
     "ename": "NameError",
     "evalue": "name 'plt' is not defined",
     "output_type": "error",
     "traceback": [
      "\u001b[1;31m---------------------------------------------------------------------------\u001b[0m",
      "\u001b[1;31mNameError\u001b[0m                                 Traceback (most recent call last)",
      "Cell \u001b[1;32mIn[1], line 1\u001b[0m\n\u001b[1;32m----> 1\u001b[0m plt\u001b[38;5;241m.\u001b[39mfigure(figsize\u001b[38;5;241m=\u001b[39m(\u001b[38;5;241m6\u001b[39m,\u001b[38;5;241m6\u001b[39m))\n\u001b[0;32m      2\u001b[0m sns\u001b[38;5;241m.\u001b[39mstripplot(x \u001b[38;5;241m=\u001b[39m data[\u001b[38;5;124m'\u001b[39m\u001b[38;5;124mCluster\u001b[39m\u001b[38;5;124m'\u001b[39m],y \u001b[38;5;241m=\u001b[39m data[\u001b[38;5;124m'\u001b[39m\u001b[38;5;124mtotal_graduates\u001b[39m\u001b[38;5;124m'\u001b[39m],palette\u001b[38;5;241m=\u001b[39m\u001b[38;5;124m'\u001b[39m\u001b[38;5;124mviridis\u001b[39m\u001b[38;5;124m'\u001b[39m,jitter \u001b[38;5;241m=\u001b[39m \u001b[38;5;28;01mTrue\u001b[39;00m)\n\u001b[0;32m      3\u001b[0m plt\u001b[38;5;241m.\u001b[39mtitle(\u001b[38;5;124m'\u001b[39m\u001b[38;5;124mClusters of Total Graduates\u001b[39m\u001b[38;5;124m'\u001b[39m)\n",
      "\u001b[1;31mNameError\u001b[0m: name 'plt' is not defined"
     ]
    }
   ],
   "source": [
    "plt.figure(figsize=(6,6))\n",
    "sns.stripplot(x = data['Cluster'],y = data['total_graduates'],palette='viridis',jitter = True)\n",
    "plt.title('Clusters of Total Graduates')\n",
    "plt.xlabel('Cluster')\n",
    "plt.ylabel('Total Graduates')\n",
    "plt.legend(title='Cluster')\n",
    "plt.show()"
   ]
  },
  {
   "cell_type": "code",
   "execution_count": null,
   "id": "4a37ddca-c16e-4f4d-8a90-05180f0846d1",
   "metadata": {},
   "outputs": [],
   "source": []
  }
 ],
 "metadata": {
  "kernelspec": {
   "display_name": "Python 3 (ipykernel)",
   "language": "python",
   "name": "python3"
  },
  "language_info": {
   "codemirror_mode": {
    "name": "ipython",
    "version": 3
   },
   "file_extension": ".py",
   "mimetype": "text/x-python",
   "name": "python",
   "nbconvert_exporter": "python",
   "pygments_lexer": "ipython3",
   "version": "3.11.7"
  }
 },
 "nbformat": 4,
 "nbformat_minor": 5
}
