{
 "cells": [
  {
   "cell_type": "code",
   "execution_count": 1,
   "id": "79519ec1-d3e8-4489-91d2-a6e78126281e",
   "metadata": {},
   "outputs": [],
   "source": [
    "import pandas as pd\n",
    "from sklearn.model_selection import train_test_split\n",
    "from sklearn.preprocessing import StandardScaler\n",
    "from sklearn.svm import SVC\n",
    "from sklearn.metrics import accuracy_score,classification_report"
   ]
  },
  {
   "cell_type": "code",
   "execution_count": 2,
   "id": "5a9102ea-c2a5-41ac-8c05-c6ad1f07e986",
   "metadata": {},
   "outputs": [],
   "source": [
    "data = pd.read_csv('UniversalBank.csv')"
   ]
  },
  {
   "cell_type": "code",
   "execution_count": 3,
   "id": "f3d4eae4-e094-48fb-bddc-2edca52b3cc5",
   "metadata": {},
   "outputs": [
    {
     "name": "stdout",
     "output_type": "stream",
     "text": [
      "   ID  Age  Experience  Income  ZIP Code  Family  CCAvg  Education  Mortgage  \\\n",
      "0   1   25           1      49     91107       4    1.6          1         0   \n",
      "1   2   45          19      34     90089       3    1.5          1         0   \n",
      "2   3   39          15      11     94720       1    1.0          1         0   \n",
      "3   4   35           9     100     94112       1    2.7          2         0   \n",
      "4   5   35           8      45     91330       4    1.0          2         0   \n",
      "\n",
      "   PersonalLoan  SecuritiesAccount  CDAccount  Online  CreditCard  \n",
      "0             0                  1          0       0           0  \n",
      "1             0                  1          0       0           0  \n",
      "2             0                  0          0       0           0  \n",
      "3             0                  0          0       0           0  \n",
      "4             0                  0          0       0           1  \n"
     ]
    }
   ],
   "source": [
    "print(data.head())\n"
   ]
  },
  {
   "cell_type": "code",
   "execution_count": 4,
   "id": "5622e304-cd76-4b9b-8a0c-18638f806394",
   "metadata": {},
   "outputs": [
    {
     "name": "stdout",
     "output_type": "stream",
     "text": [
      "<class 'pandas.core.frame.DataFrame'>\n",
      "RangeIndex: 5000 entries, 0 to 4999\n",
      "Data columns (total 14 columns):\n",
      " #   Column             Non-Null Count  Dtype  \n",
      "---  ------             --------------  -----  \n",
      " 0   ID                 5000 non-null   int64  \n",
      " 1   Age                5000 non-null   int64  \n",
      " 2   Experience         5000 non-null   int64  \n",
      " 3   Income             5000 non-null   int64  \n",
      " 4   ZIP Code           5000 non-null   int64  \n",
      " 5   Family             5000 non-null   int64  \n",
      " 6   CCAvg              5000 non-null   float64\n",
      " 7   Education          5000 non-null   int64  \n",
      " 8   Mortgage           5000 non-null   int64  \n",
      " 9   PersonalLoan       5000 non-null   int64  \n",
      " 10  SecuritiesAccount  5000 non-null   int64  \n",
      " 11  CDAccount          5000 non-null   int64  \n",
      " 12  Online             5000 non-null   int64  \n",
      " 13  CreditCard         5000 non-null   int64  \n",
      "dtypes: float64(1), int64(13)\n",
      "memory usage: 547.0 KB\n",
      "None\n"
     ]
    }
   ],
   "source": [
    "print(data.info())"
   ]
  },
  {
   "cell_type": "code",
   "execution_count": 5,
   "id": "7da2ce89-4a69-4e15-96ba-9ab6346da0fb",
   "metadata": {},
   "outputs": [],
   "source": [
    "data = data.drop(['ID'],axis=1)"
   ]
  },
  {
   "cell_type": "code",
   "execution_count": 6,
   "id": "f2634083-514a-4e23-8116-afae29a83771",
   "metadata": {},
   "outputs": [],
   "source": [
    "x = data.drop('PersonalLoan',axis=1)\n",
    "y = data['PersonalLoan']"
   ]
  },
  {
   "cell_type": "code",
   "execution_count": 8,
   "id": "0c107df5-ff6f-44a4-b6dc-860d8f60b868",
   "metadata": {},
   "outputs": [],
   "source": [
    "scaler = StandardScaler()\n",
    "x_scaler = scaler.fit_transform(x)\n",
    "x_tain,x_test,y_train,y_test = train_test_split(x_scaler,y,random_state=42,test_size = 0.25)"
   ]
  },
  {
   "cell_type": "code",
   "execution_count": 10,
   "id": "6fe00db1-54e6-4db2-80da-c88f254e9b2a",
   "metadata": {},
   "outputs": [],
   "source": [
    "def train_and_evaluate_svm(kernel_type):\n",
    "    svm_model = SVC(kernel = kernel_type)\n",
    "    svm_model.fit(x_tain,y_train)\n",
    "\n",
    "    y_pred = svm_model.predict(x_test)\n",
    "    accuracy = accuracy_score(y_test,y_pred)\n",
    "    print(f\"Kernel: {kernel_type}\")\n",
    "    print(f\"Accuracy: {accuracy * 100:.2f}%\")\n",
    "    print(\"Classification Report :\\n\",classification_report(y_test,y_pred))\n",
    "    print(\"\\n\" + \"-\"*50 + \"\\n\")"
   ]
  },
  {
   "cell_type": "code",
   "execution_count": 11,
   "id": "21ca5347-4ab5-4f97-99c8-eaa4e3ca505a",
   "metadata": {},
   "outputs": [
    {
     "name": "stdout",
     "output_type": "stream",
     "text": [
      "Kernel: linear\n",
      "Accuracy: 94.80%\n",
      "Classification Report :\n",
      "               precision    recall  f1-score   support\n",
      "\n",
      "           0       0.95      0.99      0.97      1116\n",
      "           1       0.92      0.57      0.70       134\n",
      "\n",
      "    accuracy                           0.95      1250\n",
      "   macro avg       0.93      0.78      0.84      1250\n",
      "weighted avg       0.95      0.95      0.94      1250\n",
      "\n",
      "\n",
      "--------------------------------------------------\n",
      "\n",
      "Kernel: poly\n",
      "Accuracy: 96.72%\n",
      "Classification Report :\n",
      "               precision    recall  f1-score   support\n",
      "\n",
      "           0       0.97      1.00      0.98      1116\n",
      "           1       0.96      0.72      0.83       134\n",
      "\n",
      "    accuracy                           0.97      1250\n",
      "   macro avg       0.96      0.86      0.90      1250\n",
      "weighted avg       0.97      0.97      0.97      1250\n",
      "\n",
      "\n",
      "--------------------------------------------------\n",
      "\n"
     ]
    }
   ],
   "source": [
    "train_and_evaluate_svm('linear')\n",
    "train_and_evaluate_svm('poly')"
   ]
  },
  {
   "cell_type": "code",
   "execution_count": null,
   "id": "9ced3dd2-c78e-4c56-9941-b7d3f16973f5",
   "metadata": {},
   "outputs": [],
   "source": []
  }
 ],
 "metadata": {
  "kernelspec": {
   "display_name": "Python 3 (ipykernel)",
   "language": "python",
   "name": "python3"
  },
  "language_info": {
   "codemirror_mode": {
    "name": "ipython",
    "version": 3
   },
   "file_extension": ".py",
   "mimetype": "text/x-python",
   "name": "python",
   "nbconvert_exporter": "python",
   "pygments_lexer": "ipython3",
   "version": "3.11.7"
  }
 },
 "nbformat": 4,
 "nbformat_minor": 5
}
