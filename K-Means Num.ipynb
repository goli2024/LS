{
 "cells": [
  {
   "cell_type": "code",
   "execution_count": 1,
   "id": "c9e4ca12-675b-4252-8646-23e5b60e049d",
   "metadata": {},
   "outputs": [],
   "source": [
    "#clustering :k-means 33185 Mock , Problem Statement No. 11"
   ]
  },
  {
   "cell_type": "code",
   "execution_count": 2,
   "id": "4f41b6d3-b47d-49ce-bcf3-8744146c4c45",
   "metadata": {},
   "outputs": [],
   "source": [
    "# We have  given a collection of 8 points . P1 =[0.1,0.6] P2 =[0.15,0.71] P3 = {0.08,0.9] p4=[0.16, 0.85],p5=[0.2,0.3]\n",
    "# p6=[0.25,0.5] p7=[0.24,0.1] , p8 =[0.3,0.2]. Prform  the k mean clustering with intail centroids as\n",
    "# m1=p1=cluster#1=c1 and  m2= P8=cluter32=c2 .\n",
    "# Answer  1 which cluster does p6 belongs to ? \n",
    "# 2 what is the population of a cluster around m2 ?\n",
    "# 3 what is the updated value of m1 and m2 ?"
   ]
  },
  {
   "cell_type": "code",
   "execution_count": null,
   "id": "b877fd41-25d9-4564-97b1-b29de2667b31",
   "metadata": {},
   "outputs": [],
   "source": []
  },
  {
   "cell_type": "code",
   "execution_count": 10,
   "id": "32c1c702-9f69-4040-98bb-00fbe0315188",
   "metadata": {},
   "outputs": [
    {
     "name": "stdout",
     "output_type": "stream",
     "text": [
      "Initial Clusters:\n",
      "Cluster 1: [[0.1  0.6 ]\n",
      " [0.15 0.71]\n",
      " [0.08 0.9 ]\n",
      " [0.16 0.85]\n",
      " [0.25 0.5 ]]\n",
      "Cluster 2: [[0.2  0.3 ]\n",
      " [0.24 0.1 ]\n",
      " [0.3  0.2 ]]\n",
      "P6 belongs to Cluster: 1\n",
      "Population of Cluster 2: 3\n",
      "Updated m1 (Cluster 1 centroid): [0.148 0.712]\n",
      "Updated m2 (Cluster 2 centroid): [0.24666667 0.2       ]\n",
      "\n",
      "Distances:\n",
      "d(P1, m1) = 0.1219, d(P1, m2) = 0.4260\n",
      "d(P2, m1) = 0.0028, d(P2, m2) = 0.5191\n",
      "d(P3, m1) = 0.1999, d(P3, m2) = 0.7196\n",
      "d(P4, m1) = 0.1385, d(P4, m2) = 0.6558\n",
      "d(P5, m1) = 0.4153, d(P5, m2) = 0.1104\n",
      "d(P6, m1) = 0.2353, d(P6, m2) = 0.3000\n",
      "d(P7, m1) = 0.6189, d(P7, m2) = 0.1002\n",
      "d(P8, m1) = 0.5341, d(P8, m2) = 0.0533\n"
     ]
    }
   ],
   "source": [
    "import numpy as np\n",
    "\n",
    "\n",
    "points = np.array([\n",
    "    [0.1, 0.6],   \n",
    "    [0.15, 0.71], \n",
    "    [0.08, 0.9],  \n",
    "    [0.16, 0.85], \n",
    "    [0.2, 0.3],   \n",
    "    [0.25, 0.5],  \n",
    "    [0.24, 0.1],  \n",
    "    [0.3, 0.2]    \n",
    "])\n",
    "\n",
    "\n",
    "m1 = np.array([0.1, 0.6])  \n",
    "m2 = np.array([0.3, 0.2]) \n",
    "\n",
    "\n",
    "def euclidean_distance(a, b):\n",
    "    return np.sqrt(np.sum((a - b) ** 2))\n",
    "\n",
    "\n",
    "def assign_clusters(points, m1, m2):\n",
    "    cluster1 = []\n",
    "    cluster2 = []\n",
    "    \n",
    "    for point in points:\n",
    "        dist_to_m1 = euclidean_distance(point, m1)\n",
    "        dist_to_m2 = euclidean_distance(point, m2)\n",
    "        \n",
    "        if dist_to_m1 < dist_to_m2:\n",
    "            cluster1.append(point)\n",
    "        else:\n",
    "            cluster2.append(point)\n",
    "    \n",
    "    return np.array(cluster1), np.array(cluster2)\n",
    "\n",
    "\n",
    "def update_centroids(cluster1, cluster2):\n",
    "    new_m1 = np.mean(cluster1, axis=0) if len(cluster1) > 0 else m1\n",
    "    new_m2 = np.mean(cluster2, axis=0) if len(cluster2) > 0 else m2\n",
    "    return new_m1, new_m2\n",
    "\n",
    "# Initial assignment\n",
    "cluster1, cluster2 = assign_clusters(points, m1, m2)\n",
    "\n",
    "# Results\n",
    "print(\"Initial Clusters:\")\n",
    "print(\"Cluster 1:\", cluster1)\n",
    "print(\"Cluster 2:\", cluster2)\n",
    "\n",
    "# Answer 1: Which cluster does P6 belong to?\n",
    "P6 = points[5]\n",
    "cluster_of_P6 = 1 if any(np.array_equal(P6, point) for point in cluster1) else 2\n",
    "print(\"P6 belongs to Cluster:\", cluster_of_P6)\n",
    "\n",
    "# Answer 2: Population of Cluster 2\n",
    "population_cluster2 = len(cluster2)\n",
    "print(\"Population of Cluster 2:\", population_cluster2)\n",
    "\n",
    "# Answer 3: Updated centroids\n",
    "m1, m2 = update_centroids(cluster1, cluster2)\n",
    "print(\"Updated m1 (Cluster 1 centroid):\", m1)\n",
    "print(\"Updated m2 (Cluster 2 centroid):\", m2)\n",
    "\n",
    "# Print distances in the specified format\n",
    "print(\"\\nDistances:\")\n",
    "for i, point in enumerate(points):\n",
    "    dist_to_m1 = euclidean_distance(point, m1)\n",
    "    dist_to_m2 = euclidean_distance(point, m2)\n",
    "    print(f\"d(P{i+1}, m1) = {dist_to_m1:.4f}, d(P{i+1}, m2) = {dist_to_m2:.4f}\")\n"
   ]
  },
  {
   "cell_type": "code",
   "execution_count": null,
   "id": "e1305f74-0ddd-4443-ae3b-593c43699089",
   "metadata": {},
   "outputs": [],
   "source": []
  }
 ],
 "metadata": {
  "kernelspec": {
   "display_name": "Python 3 (ipykernel)",
   "language": "python",
   "name": "python3"
  },
  "language_info": {
   "codemirror_mode": {
    "name": "ipython",
    "version": 3
   },
   "file_extension": ".py",
   "mimetype": "text/x-python",
   "name": "python",
   "nbconvert_exporter": "python",
   "pygments_lexer": "ipython3",
   "version": "3.8.10"
  }
 },
 "nbformat": 4,
 "nbformat_minor": 5
}
